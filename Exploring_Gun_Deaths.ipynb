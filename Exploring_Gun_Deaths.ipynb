{
 "cells": [
  {
   "cell_type": "code",
   "execution_count": 2,
   "metadata": {
    "collapsed": false
   },
   "outputs": [
    {
     "name": "stdout",
     "output_type": "stream",
     "text": [
      "[['', 'year', 'month', 'intent', 'police', 'sex', 'age', 'race', 'hispanic', 'place', 'education'], ['1', '2012', '01', 'Suicide', '0', 'M', '34', 'Asian/Pacific Islander', '100', 'Home', '4'], ['2', '2012', '01', 'Suicide', '0', 'F', '21', 'White', '100', 'Street', '3'], ['3', '2012', '01', 'Suicide', '0', 'M', '60', 'White', '100', 'Other specified', '4'], ['4', '2012', '02', 'Suicide', '0', 'M', '64', 'White', '100', 'Home', '4']]\n"
     ]
    }
   ],
   "source": [
    "import csv\n",
    "\n",
    "f = open(\"guns.csv\",\"r\")\n",
    "\n",
    "csvreader = csv.reader(f)\n",
    "data = list(csvreader)\n",
    "\n",
    "print(data[0:5])"
   ]
  },
  {
   "cell_type": "code",
   "execution_count": 3,
   "metadata": {
    "collapsed": false
   },
   "outputs": [
    {
     "name": "stdout",
     "output_type": "stream",
     "text": [
      "['', 'year', 'month', 'intent', 'police', 'sex', 'age', 'race', 'hispanic', 'place', 'education']\n",
      "[['1', '2012', '01', 'Suicide', '0', 'M', '34', 'Asian/Pacific Islander', '100', 'Home', '4'], ['2', '2012', '01', 'Suicide', '0', 'F', '21', 'White', '100', 'Street', '3'], ['3', '2012', '01', 'Suicide', '0', 'M', '60', 'White', '100', 'Other specified', '4'], ['4', '2012', '02', 'Suicide', '0', 'M', '64', 'White', '100', 'Home', '4'], ['5', '2012', '02', 'Suicide', '0', 'M', '31', 'White', '100', 'Other specified', '2']]\n"
     ]
    }
   ],
   "source": [
    "headers =  data[0]\n",
    "data = data[1:len(data)]\n",
    "print(headers)\n",
    "print(data[0:5])"
   ]
  },
  {
   "cell_type": "code",
   "execution_count": 15,
   "metadata": {
    "collapsed": false
   },
   "outputs": [
    {
     "name": "stdout",
     "output_type": "stream",
     "text": [
      "{'2013': 33636, '2014': 33599, '2012': 33562}\n"
     ]
    }
   ],
   "source": [
    "years = []\n",
    "\n",
    "for each in data:\n",
    "    years.append(each[1])\n",
    "\n",
    "year_counts = {}\n",
    "\n",
    "for each in years:\n",
    "    if each in year_counts is not None:\n",
    "        year_counts[each]  = year_counts[each]  + 1\n",
    "    else:\n",
    "        year_counts[each] = 1\n",
    "        \n",
    "print(year_counts)\n",
    "        "
   ]
  },
  {
   "cell_type": "code",
   "execution_count": null,
   "metadata": {
    "collapsed": false
   },
   "outputs": [],
   "source": [
    "import datetime\n",
    "\n",
    "dates = []\n",
    "\n",
    "\n",
    "for each in data:\n",
    "    date = datetime.datetime(year=int(each[1]),month=int(each[2]),day=1)\n",
    "    dates.append(date)\n",
    "    \n",
    "#print(dates[0:5])\n",
    "\n",
    "date_counts = {}\n",
    "\n",
    "for each in dates:\n",
    "    if each in date_counts is not None:\n",
    "        date_counts[each]  = date_counts[each]  + 1\n",
    "    else:\n",
    "        date_counts[each] = 1\n",
    "        \n",
    "print(date_counts)\n",
    "\n"
   ]
  },
  {
   "cell_type": "code",
   "execution_count": 5,
   "metadata": {
    "collapsed": false
   },
   "outputs": [
    {
     "name": "stdout",
     "output_type": "stream",
     "text": [
      "{'F': 14449, 'M': 86349}\n",
      "{'Asian/Pacific Islander': 1326, 'Black': 23296, 'Native American/Native Alaskan': 917, 'White': 66237, 'Hispanic': 9022}\n"
     ]
    }
   ],
   "source": [
    "\n",
    "s_count = []\n",
    "r_count = []\n",
    "\n",
    "sex_counts = {}\n",
    "race_counts = {}\n",
    "\n",
    "for each in data:\n",
    "    s_count.append(each[5])\n",
    "    r_count.append(each[7])\n",
    "\n",
    "for each in s_count:\n",
    "    if each in sex_counts is not None:\n",
    "        sex_counts[each]  = sex_counts[each]  + 1\n",
    "    else:\n",
    "        sex_counts[each] = 1\n",
    "  \n",
    "for each in r_count:\n",
    "    if each in race_counts is not None:\n",
    "        race_counts[each]  = race_counts[each]  + 1\n",
    "    else:\n",
    "        race_counts[each] = 1\n",
    "      \n",
    "print(sex_counts)        \n",
    "print(race_counts)\n"
   ]
  },
  {
   "cell_type": "code",
   "execution_count": 6,
   "metadata": {
    "collapsed": false
   },
   "outputs": [
    {
     "name": "stdout",
     "output_type": "stream",
     "text": [
      "[['Id', 'Year', 'Id', 'Sex', 'Id', 'Hispanic Origin', 'Id', 'Id2', 'Geography', 'Total', 'Race Alone - White', 'Race Alone - Hispanic', 'Race Alone - Black or African American', 'Race Alone - American Indian and Alaska Native', 'Race Alone - Asian', 'Race Alone - Native Hawaiian and Other Pacific Islander', 'Two or More Races'], ['cen42010', 'April 1, 2010 Census', 'totsex', 'Both Sexes', 'tothisp', 'Total', '0100000US', '', 'United States', '308745538', '197318956', '44618105', '40250635', '3739506', '15159516', '674625', '6984195']]\n"
     ]
    }
   ],
   "source": [
    "import csv\n",
    "\n",
    "f = open(\"census.csv\",\"r\")\n",
    "\n",
    "csvreader = csv.reader(f)\n",
    "census = list(csvreader)\n",
    "\n",
    "print(census)"
   ]
  },
  {
   "cell_type": "code",
   "execution_count": 16,
   "metadata": {
    "collapsed": false
   },
   "outputs": [
    {
     "name": "stdout",
     "output_type": "stream",
     "text": [
      "{'Asian/Pacific Islander': 8.374309664161762, 'Black': 57.8773477735196, 'Native American/Native Alaskan': 24.521955573811088, 'White': 33.56849303419181, 'Hispanic': 20.220491210910907}\n"
     ]
    }
   ],
   "source": [
    "mapping = {\n",
    "    'Black': 40250635,\n",
    "    'Hispanic': 44618105,\n",
    "    'Asian/Pacific Islander': 15159516+674625,\n",
    "    'White': 197318956,\n",
    "    'Native American/Native Alaskan': 3739506 \n",
    "    \n",
    "}\n",
    "\n",
    "race_per_hundredk = {}\n",
    "\n",
    "for  idx,key in enumerate (race_counts):\n",
    "   race_per_hundredk[key] = (race_counts[key]/mapping[key])*100000\n",
    "    \n",
    "print(race_per_hundredk)    "
   ]
  },
  {
   "cell_type": "code",
   "execution_count": 19,
   "metadata": {
    "collapsed": false
   },
   "outputs": [
    {
     "name": "stdout",
     "output_type": "stream",
     "text": [
      "{'Asian/Pacific Islander': 3.530346230970155, 'Black': 48.471284987180944, 'Native American/Native Alaskan': 8.717729026240365, 'White': 4.6356417981453335, 'Hispanic': 12.627161104219914}\n"
     ]
    }
   ],
   "source": [
    "intents = []\n",
    "races = []\n",
    "\n",
    "for each in data:\n",
    "    intents.append(each[3])\n",
    "    races.append(each[7])\n",
    "\n",
    "homicide_race_counts = {}\n",
    "\n",
    "for i,race in enumerate(races):\n",
    "    if intents[i] == 'Homicide':\n",
    "        if race in homicide_race_counts is not None:\n",
    "            homicide_race_counts[race]+=1\n",
    "        else:\n",
    "            homicide_race_counts[race] = 1\n",
    "                \n",
    "for  idx,key in enumerate (homicide_race_counts):\n",
    "   homicide_race_counts[key] = (homicide_race_counts[key]/mapping[key])*100000\n",
    "    \n",
    "print(homicide_race_counts)    \n",
    "    \n",
    "    "
   ]
  },
  {
   "cell_type": "code",
   "execution_count": null,
   "metadata": {
    "collapsed": true
   },
   "outputs": [],
   "source": []
  }
 ],
 "metadata": {
  "kernelspec": {
   "display_name": "Python 3",
   "language": "python",
   "name": "python3"
  },
  "language_info": {
   "codemirror_mode": {
    "name": "ipython",
    "version": 3
   },
   "file_extension": ".py",
   "mimetype": "text/x-python",
   "name": "python",
   "nbconvert_exporter": "python",
   "pygments_lexer": "ipython3",
   "version": "3.4.3"
  }
 },
 "nbformat": 4,
 "nbformat_minor": 0
}
