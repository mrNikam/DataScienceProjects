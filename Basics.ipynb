{ 
 "cells": [
  {
   "cell_type": "code",
   "execution_count": null,
   "metadata": {
    "collapsed": false
   },
   "outputs": [],
   "source": [
 "We are working with the data set from the Centers for Disease Control and Prevention's National National Center for Health Statistics. The dataset has the following structure: 
"year - Year
"month - Month
"date_of_month - Day number of the month
"day_of_week - Day of week, where 1 is Monday and 7 is Sunday
"births - Number of births
   
   ]
  },
 
 
 
   "cell_type": "code",
   "execution_count": 3,
   "metadata": {
    "collapsed": false
   },
   "outputs": [
    {
     "name": "stdout",
     "output_type": "stream",
     "text": [
      "[['', 'year', 'month', 'intent', 'police', 'sex', 'age', 'race', 'hispanic', 'place', 'education'], ['1', '2012', '01', 'Suicide', '0', 'M', '34', 'Asian/Pacific Islander', '100', 'Home', '4'], ['2', '2012', '01', 'Suicide', '0', 'F', '21', 'White', '100', 'Street', '3'], ['3', '2012', '01', 'Suicide', '0', 'M', '60', 'White', '100', 'Other specified', '4'], ['4', '2012', '02', 'Suicide', '0', 'M', '64', 'White', '100', 'Home', '4']]\n"
     ]
    }
   ],
   "source": [
    "import csv\n",
    "\n",
    "f = open(\"guns.csv\",\"r\")\n",
    "\n",
    "csvreader = csv.reader(f)\n",
    "data = list(csvreader)\n",
    "\n",
    "print(data[0:5])"
   ]
  },
  {
   "cell_type": "code",
   "execution_count": 6,
   "metadata": {
    "collapsed": false
   },
   "outputs": [
    {
     "name": "stdout",
     "output_type": "stream",
     "text": [
      "['1', '2012', '01', 'Suicide', '0', 'M', '34', 'Asian/Pacific Islander', '100', 'Home', '4']\n",
      "[['2', '2012', '01', 'Suicide', '0', 'F', '21', 'White', '100', 'Street', '3'], ['3', '2012', '01', 'Suicide', '0', 'M', '60', 'White', '100', 'Other specified', '4'], ['4', '2012', '02', 'Suicide', '0', 'M', '64', 'White', '100', 'Home', '4'], ['5', '2012', '02', 'Suicide', '0', 'M', '31', 'White', '100', 'Other specified', '2'], ['6', '2012', '02', 'Suicide', '0', 'M', '17', 'Native American/Native Alaskan', '100', 'Home', '1'], ['7', '2012', '02', 'Undetermined', '0', 'M', '48', 'White', '100', 'Home', '2'], ['8', '2012', '03', 'Suicide', '0', 'M', '41', 'Native American/Native Alaskan', '100', 'Home', '2'], ['9', '2012', '02', 'Accidental', '0', 'M', '50', 'White', '100', 'Other specified', '3'], ['10', '2012', '02', 'Suicide', '0', 'M', 'NA', 'Black', '998', 'Home', '5'], ['11', '2012', '02', 'Suicide', '0', 'M', '30', 'White', '100', 'Home', '3'], ['12', '2012', '01', 'Suicide', '0', 'M', '21', 'Native American/Native Alaskan', '100', 'Home', '2'], ['13', '2012', '03', 'Suicide', '0', 'M', '43', 'White', '100', 'Home', '1'], ['14', '2012', '03', 'Suicide', '0', 'M', '34', 'Native American/Native Alaskan', '100', 'Home', '2'], ['15', '2012', '03', 'Homicide', '0', 'M', '27', 'White', '100', 'Home', '2'], ['16', '2012', '03', 'Suicide', '0', 'M', '27', 'Native American/Native Alaskan', '100', 'Home', '2'], ['17', '2012', '03', 'Suicide', '0', 'M', '55', 'White', '100', 'Home', '4'], ['18', '2012', '03', 'Suicide', '0', 'M', '53', 'Native American/Native Alaskan', '100', 'Home', '2'], ['19', '2012', '03', 'Homicide', '0', 'M', '31', 'Asian/Pacific Islander', '100', 'Home', '3'], ['20', '2012', '04', 'Suicide', '0', 'M', '51', 'White', '100', 'Home', '2'], ['21', '2012', '04', 'Suicide', '0', 'M', '65', 'Native American/Native Alaskan', '100', 'Home', '2']]\n"
     ]
    }
   ],
   "source": [
    "headers =  data[0]\n",
    "data = data[1:len(data)]\n",
    "print(headers)\n",
    "print(data[0:20])"
   ]
  },
  {
   "cell_type": "code",
   "execution_count": 15,
   "metadata": {
    "collapsed": false
   },
   "outputs": [
    {
     "name": "stdout",
     "output_type": "stream",
     "text": [
      "{'2013': 33636, '2014': 33599, '2012': 33562}\n"
     ]
    }
   ],
   "source": [
    "years = []\n",
    "\n",
    "for each in data:\n",
    "    years.append(each[1])\n",
    "\n",
    "year_counts = {}\n",
    "\n",
    "for each in years:\n",
    "    if each in year_counts is not None:\n",
    "        year_counts[each]  = year_counts[each]  + 1\n",
    "    else:\n",
    "        year_counts[each] = 1\n",
    "        \n",
    "print(year_counts)\n",
    "        "
   ]
  },
  {
   "cell_type": "code",
   "execution_count": null,
   "metadata": {
    "collapsed": false
   },
   "outputs": [],
   "source": [
    "import datetime\n",
    "\n",
    "dates = []\n",
    "\n",
    "\n",
    "for each in data:\n",
    "    date = datetime.datetime(year=int(each[1]),month=int(each[2]),day=1)\n",
    "    dates.append(date)\n",
    "    \n",
    "#print(dates[0:5])\n",
    "\n",
    "date_counts = {}\n",
    "\n",
    "for each in dates:\n",
    "    if each in date_counts is not None:\n",
    "        date_counts[each]  = date_counts[each]  + 1\n",
    "    else:\n",
    "        date_counts[each] = 1\n",
    "        \n",
    "print(date_counts)\n",
    "\n"
   ]
  },
  {
   "cell_type": "code",
   "execution_count": 5,
   "metadata": {
    "collapsed": false
   },
   "outputs": [
    {
     "name": "stdout",
     "output_type": "stream",
     "text": [
      "{'M': 1, 'F': 1}\n",
      "{'White': 1, 'Black': 1, 'Hispanic': 1, 'Native American/Native Alaskan': 1, 'Asian/Pacific Islander': 1}\n"
     ]
    }
   ],
   "source": [
    "\n",
    "sex_counts = {}\n",
    "\n",
    "for each in data:\n",
    "    if each[5] in data is not None:\n",
    "        sex_counts[each[5]]  = sex_counts[each[5]]  + 1\n",
    "    else:\n",
    "        sex_counts[each[5]] = 1\n",
    "        \n",
    "print(sex_counts)\n",
    "\n",
    "race_counts = {}\n",
    "\n",
    "\n",
    "\n",
    "for each in data:\n",
    "    if each[7] in data is not None:\n",
    "        race_counts[each[7]]  = race_counts[each[7]]  + 1\n",
    "    else:\n",
    "        race_counts[each[7]] = 1\n",
    "        \n",
    "print(race_counts)\n"
   ]
  },
  {
   "cell_type": "code",
   "execution_count": 1,
   "metadata": {
    "collapsed": false
   },
   "outputs": [
    {
     "name": "stdout",
     "output_type": "stream",
     "text": [
      "[['Id', 'Year', 'Id', 'Sex', 'Id', 'Hispanic Origin', 'Id', 'Id2', 'Geography', 'Total', 'Race Alone - White', 'Race Alone - Hispanic', 'Race Alone - Black or African American', 'Race Alone - American Indian and Alaska Native', 'Race Alone - Asian', 'Race Alone - Native Hawaiian and Other Pacific Islander', 'Two or More Races'], ['cen42010', 'April 1, 2010 Census', 'totsex', 'Both Sexes', 'tothisp', 'Total', '0100000US', '', 'United States', '308745538', '197318956', '44618105', '40250635', '3739506', '15159516', '674625', '6984195']]\n"
     ]
    }
   ],
   "source": [
    "import csv\n",
    "\n",
    "f = open(\"census.csv\",\"r\")\n",
    "\n",
    "csvreader = csv.reader(f)\n",
    "census = list(csvreader)\n",
    "\n",
    "print(census[0:5])"
   ]
  },
  {
   "cell_type": "code",
   "execution_count": null,
   "metadata": {
    "collapsed": true
   },
   "outputs": [],
   "source": []
  },
  {
   "cell_type": "code",
   "execution_count": null,
   "metadata": {
    "collapsed": true
   },
   "outputs": [],
   "source": []
  }
 ],
 "metadata": {
  "kernelspec": {
   "display_name": "Python 3",
   "language": "python",
   "name": "python3"
  },
  "language_info": {
   "codemirror_mode": {
    "name": "ipython",
    "version": 3
   },
   "file_extension": ".py",
   "mimetype": "text/x-python",
   "name": "python",
   "nbconvert_exporter": "python",
   "pygments_lexer": "ipython3",
   "version": "3.4.3"
  }
 },
 "nbformat": 4,
 "nbformat_minor": 0
}
